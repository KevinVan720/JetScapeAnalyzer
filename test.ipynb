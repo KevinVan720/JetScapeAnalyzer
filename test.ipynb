{
 "cells": [
  {
   "cell_type": "code",
   "execution_count": 2,
   "metadata": {},
   "outputs": [],
   "source": [
    "import numpy as np\n",
    "import os\n",
    "import sys\n",
    "from os import path\n",
    "import h5py\n",
    "import fnmatch\n",
    "import multiprocessing\n",
    "from joblib import Parallel, delayed\n",
    "import re\n",
    "from itertools import groupby\n",
    "import math\n",
    "import random\n",
    "import subprocess"
   ]
  },
  {
   "cell_type": "code",
   "execution_count": 9,
   "metadata": {},
   "outputs": [],
   "source": [
    "headerDir=\"/home/kevin/Research/JETSCAPE_WSU_analysis/JetScapeAnalyzer\"+\"/../\""
   ]
  },
  {
   "cell_type": "code",
   "execution_count": 10,
   "metadata": {},
   "outputs": [],
   "source": [
    "allHeaderFiles = os.listdir(headerDir)\n",
    "    # files stores all the event output hadrons\n",
    "allHeaderFiles = [file for file in allHeaderFiles if fnmatch.fnmatch(\n",
    "        file, \"*.dat\")]\n",
    "allHeaderFiles.sort()\n"
   ]
  },
  {
   "cell_type": "code",
   "execution_count": 11,
   "metadata": {},
   "outputs": [
    {
     "data": {
      "text/plain": [
       "['CMS-PbPb5020-Raa-0-10.dat',\n",
       " 'CMS-PbPb5020-Raa-0-100.dat',\n",
       " 'CMS-PbPb5020-v2-0-10.dat',\n",
       " 'CMS-PbPb5020-v2-10-30.dat',\n",
       " 'CMS-PbPb5020-v2-30-50.dat',\n",
       " 'Hadrons_0045_0050_ev_020k_to_030k.dat',\n",
       " 'Hadrons_0100_0110_ev_000k_to_010k.dat',\n",
       " 'Hadrons_0350_0400_ev_000k_to_010k.dat',\n",
       " 'Hadrons_2000_2200_ev_000k_to_010k.dat',\n",
       " 'Partons_0190_0200_ev_120k_to_130k.dat',\n",
       " 'Partons_0190_0200_ev_860k_to_870k.dat']"
      ]
     },
     "execution_count": 11,
     "metadata": {},
     "output_type": "execute_result"
    }
   ],
   "source": [
    "allHeaderFiles"
   ]
  },
  {
   "cell_type": "code",
   "execution_count": null,
   "metadata": {},
   "outputs": [],
   "source": []
  }
 ],
 "metadata": {
  "interpreter": {
   "hash": "5c5b210ffa015f2312f69f2248e3163602cc860559c1494ea467ed1fecf0f25e"
  },
  "kernelspec": {
   "display_name": "Python 3.8.8 64-bit ('base': conda)",
   "name": "python3"
  },
  "language_info": {
   "codemirror_mode": {
    "name": "ipython",
    "version": 3
   },
   "file_extension": ".py",
   "mimetype": "text/x-python",
   "name": "python",
   "nbconvert_exporter": "python",
   "pygments_lexer": "ipython3",
   "version": "3.8.8"
  },
  "orig_nbformat": 4
 },
 "nbformat": 4,
 "nbformat_minor": 2
}
